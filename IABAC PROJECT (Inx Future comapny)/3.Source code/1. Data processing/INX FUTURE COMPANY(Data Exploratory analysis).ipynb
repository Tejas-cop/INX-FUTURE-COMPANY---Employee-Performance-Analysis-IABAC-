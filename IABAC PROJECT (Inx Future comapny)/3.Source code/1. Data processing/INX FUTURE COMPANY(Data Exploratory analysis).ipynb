{
 "cells": [
  {
   "cell_type": "markdown",
   "id": "b8a27e0c",
   "metadata": {},
   "source": [
    "#### <span style=\"font-family:cursive\">Data Exploratory analysis</span>"
   ]
  },
  {
   "cell_type": "code",
   "execution_count": 1,
   "id": "dfde4e30",
   "metadata": {},
   "outputs": [
    {
     "data": {
      "text/html": [
       "        <script type=\"text/javascript\">\n",
       "        window.PlotlyConfig = {MathJaxConfig: 'local'};\n",
       "        if (window.MathJax) {MathJax.Hub.Config({SVG: {font: \"STIX-Web\"}});}\n",
       "        if (typeof require !== 'undefined') {\n",
       "        require.undef(\"plotly\");\n",
       "        requirejs.config({\n",
       "            paths: {\n",
       "                'plotly': ['https://cdn.plot.ly/plotly-2.9.0.min']\n",
       "            }\n",
       "        });\n",
       "        require(['plotly'], function(Plotly) {\n",
       "            window._Plotly = Plotly;\n",
       "        });\n",
       "        }\n",
       "        </script>\n",
       "        "
      ]
     },
     "metadata": {},
     "output_type": "display_data"
    }
   ],
   "source": [
    "# data analysis and wrangling\n",
    "import pandas as pd\n",
    "import numpy as np\n",
    "import random as rnd\n",
    "\n",
    "\n",
    "# visualization\n",
    "import seaborn as sns\n",
    "import matplotlib.pyplot as plt\n",
    "%matplotlib inline\n",
    "\n",
    "# Import statements required for Plotly \n",
    "import plotly.offline as py\n",
    "py.init_notebook_mode(connected=True)\n",
    "import plotly.graph_objs as go\n",
    "import plotly.tools as tls\n",
    "\n",
    "\n",
    "# for warnings \n",
    "import warnings\n",
    "warnings.filterwarnings('ignore')"
   ]
  },
  {
   "cell_type": "markdown",
   "id": "f6eca80e",
   "metadata": {},
   "source": [
    " #### <span style=\"font-family:cursive\">Dataset </span> "
   ]
  },
  {
   "cell_type": "code",
   "execution_count": 2,
   "id": "69cb56c4",
   "metadata": {},
   "outputs": [
    {
     "data": {
      "text/html": [
       "<div>\n",
       "<style scoped>\n",
       "    .dataframe tbody tr th:only-of-type {\n",
       "        vertical-align: middle;\n",
       "    }\n",
       "\n",
       "    .dataframe tbody tr th {\n",
       "        vertical-align: top;\n",
       "    }\n",
       "\n",
       "    .dataframe thead th {\n",
       "        text-align: right;\n",
       "    }\n",
       "</style>\n",
       "<table border=\"1\" class=\"dataframe\">\n",
       "  <thead>\n",
       "    <tr style=\"text-align: right;\">\n",
       "      <th></th>\n",
       "      <th>EmpNumber</th>\n",
       "      <th>Age</th>\n",
       "      <th>Gender</th>\n",
       "      <th>EducationBackground</th>\n",
       "      <th>MaritalStatus</th>\n",
       "      <th>EmpDepartment</th>\n",
       "      <th>EmpJobRole</th>\n",
       "      <th>BusinessTravelFrequency</th>\n",
       "      <th>DistanceFromHome</th>\n",
       "      <th>EmpEducationLevel</th>\n",
       "      <th>...</th>\n",
       "      <th>EmpRelationshipSatisfaction</th>\n",
       "      <th>TotalWorkExperienceInYears</th>\n",
       "      <th>TrainingTimesLastYear</th>\n",
       "      <th>EmpWorkLifeBalance</th>\n",
       "      <th>ExperienceYearsAtThisCompany</th>\n",
       "      <th>ExperienceYearsInCurrentRole</th>\n",
       "      <th>YearsSinceLastPromotion</th>\n",
       "      <th>YearsWithCurrManager</th>\n",
       "      <th>Attrition</th>\n",
       "      <th>PerformanceRating</th>\n",
       "    </tr>\n",
       "  </thead>\n",
       "  <tbody>\n",
       "    <tr>\n",
       "      <th>0</th>\n",
       "      <td>E1001000</td>\n",
       "      <td>32</td>\n",
       "      <td>Male</td>\n",
       "      <td>Marketing</td>\n",
       "      <td>Single</td>\n",
       "      <td>Sales</td>\n",
       "      <td>Sales Executive</td>\n",
       "      <td>Travel_Rarely</td>\n",
       "      <td>10</td>\n",
       "      <td>3</td>\n",
       "      <td>...</td>\n",
       "      <td>4</td>\n",
       "      <td>10</td>\n",
       "      <td>2</td>\n",
       "      <td>2</td>\n",
       "      <td>10</td>\n",
       "      <td>7</td>\n",
       "      <td>0</td>\n",
       "      <td>8</td>\n",
       "      <td>No</td>\n",
       "      <td>3</td>\n",
       "    </tr>\n",
       "    <tr>\n",
       "      <th>1</th>\n",
       "      <td>E1001006</td>\n",
       "      <td>47</td>\n",
       "      <td>Male</td>\n",
       "      <td>Marketing</td>\n",
       "      <td>Single</td>\n",
       "      <td>Sales</td>\n",
       "      <td>Sales Executive</td>\n",
       "      <td>Travel_Rarely</td>\n",
       "      <td>14</td>\n",
       "      <td>4</td>\n",
       "      <td>...</td>\n",
       "      <td>4</td>\n",
       "      <td>20</td>\n",
       "      <td>2</td>\n",
       "      <td>3</td>\n",
       "      <td>7</td>\n",
       "      <td>7</td>\n",
       "      <td>1</td>\n",
       "      <td>7</td>\n",
       "      <td>No</td>\n",
       "      <td>3</td>\n",
       "    </tr>\n",
       "    <tr>\n",
       "      <th>2</th>\n",
       "      <td>E1001007</td>\n",
       "      <td>40</td>\n",
       "      <td>Male</td>\n",
       "      <td>Life Sciences</td>\n",
       "      <td>Married</td>\n",
       "      <td>Sales</td>\n",
       "      <td>Sales Executive</td>\n",
       "      <td>Travel_Frequently</td>\n",
       "      <td>5</td>\n",
       "      <td>4</td>\n",
       "      <td>...</td>\n",
       "      <td>3</td>\n",
       "      <td>20</td>\n",
       "      <td>2</td>\n",
       "      <td>3</td>\n",
       "      <td>18</td>\n",
       "      <td>13</td>\n",
       "      <td>1</td>\n",
       "      <td>12</td>\n",
       "      <td>No</td>\n",
       "      <td>4</td>\n",
       "    </tr>\n",
       "    <tr>\n",
       "      <th>3</th>\n",
       "      <td>E1001009</td>\n",
       "      <td>41</td>\n",
       "      <td>Male</td>\n",
       "      <td>Human Resources</td>\n",
       "      <td>Divorced</td>\n",
       "      <td>Human Resources</td>\n",
       "      <td>Manager</td>\n",
       "      <td>Travel_Rarely</td>\n",
       "      <td>10</td>\n",
       "      <td>4</td>\n",
       "      <td>...</td>\n",
       "      <td>2</td>\n",
       "      <td>23</td>\n",
       "      <td>2</td>\n",
       "      <td>2</td>\n",
       "      <td>21</td>\n",
       "      <td>6</td>\n",
       "      <td>12</td>\n",
       "      <td>6</td>\n",
       "      <td>No</td>\n",
       "      <td>3</td>\n",
       "    </tr>\n",
       "    <tr>\n",
       "      <th>4</th>\n",
       "      <td>E1001010</td>\n",
       "      <td>60</td>\n",
       "      <td>Male</td>\n",
       "      <td>Marketing</td>\n",
       "      <td>Single</td>\n",
       "      <td>Sales</td>\n",
       "      <td>Sales Executive</td>\n",
       "      <td>Travel_Rarely</td>\n",
       "      <td>16</td>\n",
       "      <td>4</td>\n",
       "      <td>...</td>\n",
       "      <td>4</td>\n",
       "      <td>10</td>\n",
       "      <td>1</td>\n",
       "      <td>3</td>\n",
       "      <td>2</td>\n",
       "      <td>2</td>\n",
       "      <td>2</td>\n",
       "      <td>2</td>\n",
       "      <td>No</td>\n",
       "      <td>3</td>\n",
       "    </tr>\n",
       "  </tbody>\n",
       "</table>\n",
       "<p>5 rows × 28 columns</p>\n",
       "</div>"
      ],
      "text/plain": [
       "  EmpNumber  Age Gender EducationBackground MaritalStatus    EmpDepartment  \\\n",
       "0  E1001000   32   Male           Marketing        Single            Sales   \n",
       "1  E1001006   47   Male           Marketing        Single            Sales   \n",
       "2  E1001007   40   Male       Life Sciences       Married            Sales   \n",
       "3  E1001009   41   Male     Human Resources      Divorced  Human Resources   \n",
       "4  E1001010   60   Male           Marketing        Single            Sales   \n",
       "\n",
       "        EmpJobRole BusinessTravelFrequency  DistanceFromHome  \\\n",
       "0  Sales Executive           Travel_Rarely                10   \n",
       "1  Sales Executive           Travel_Rarely                14   \n",
       "2  Sales Executive       Travel_Frequently                 5   \n",
       "3          Manager           Travel_Rarely                10   \n",
       "4  Sales Executive           Travel_Rarely                16   \n",
       "\n",
       "   EmpEducationLevel  ...  EmpRelationshipSatisfaction  \\\n",
       "0                  3  ...                            4   \n",
       "1                  4  ...                            4   \n",
       "2                  4  ...                            3   \n",
       "3                  4  ...                            2   \n",
       "4                  4  ...                            4   \n",
       "\n",
       "   TotalWorkExperienceInYears  TrainingTimesLastYear  EmpWorkLifeBalance  \\\n",
       "0                          10                      2                   2   \n",
       "1                          20                      2                   3   \n",
       "2                          20                      2                   3   \n",
       "3                          23                      2                   2   \n",
       "4                          10                      1                   3   \n",
       "\n",
       "   ExperienceYearsAtThisCompany  ExperienceYearsInCurrentRole  \\\n",
       "0                            10                             7   \n",
       "1                             7                             7   \n",
       "2                            18                            13   \n",
       "3                            21                             6   \n",
       "4                             2                             2   \n",
       "\n",
       "  YearsSinceLastPromotion  YearsWithCurrManager  Attrition  PerformanceRating  \n",
       "0                       0                     8         No                  3  \n",
       "1                       1                     7         No                  3  \n",
       "2                       1                    12         No                  4  \n",
       "3                      12                     6         No                  3  \n",
       "4                       2                     2         No                  3  \n",
       "\n",
       "[5 rows x 28 columns]"
      ]
     },
     "execution_count": 2,
     "metadata": {},
     "output_type": "execute_result"
    }
   ],
   "source": [
    "df = pd.read_excel('./INX_Future_Inc_Employee_Performance_CDS_Project2_Data_V1.8.xls')\n",
    "df.head()"
   ]
  },
  {
   "cell_type": "markdown",
   "id": "89a67879",
   "metadata": {},
   "source": [
    " #### <span style=\"font-family:cursive\">Distribution of dataset and univirate analysis</span> \n",
    " \n",
    " > one of the first few steps in exploring the data would be to have a rough idea of how the features are distributed with one another. To do so, we shall invoke the familiar kdeplot function from the Seaborn plotting library. The distribution has been done by both numerical and categorical features. it will show the overall idea about the density and majority of data present in a different level."
   ]
  },
  {
   "cell_type": "markdown",
   "id": "89541496",
   "metadata": {},
   "source": [
    " ####  <span style=\"font-family:cursive\">Using Kde plots</span> \n",
    " >  This is the best libray tools to analysis the variable we want to analysis, its give details analysis of each every variable.\n",
    " \n",
    " > #### Defining our colormap to the KDE Plots"
   ]
  },
  {
   "cell_type": "code",
   "execution_count": 3,
   "id": "84a61430",
   "metadata": {},
   "outputs": [],
   "source": [
    "s = np.linspace(0, 3, 10)\n",
    "cmap = sns.cubehelix_palette(start=0.0, light=1, as_cmap=True)"
   ]
  },
  {
   "cell_type": "code",
   "execution_count": 4,
   "id": "728c5ea5",
   "metadata": {},
   "outputs": [
    {
     "data": {
      "image/png": "[encoded data removed]",
      "text/plain": [
       "<Figure size 432x288 with 1 Axes>"
      ]
     },
     "metadata": {},
     "output_type": "display_data"
    }
   ],
   "source": [
    "sns.set_theme('poster')\n",
    "x = df['Age'].values\n",
    "y = df['TotalWorkExperienceInYears'].values\n",
    "sns.kdeplot(x, y, cmap=cmap, shade=True).set( title = 'Age against Total work experiance years')\n",
    "cmap = sns.cubehelix_palette(start=0.333333333333, light=1, as_cmap=True)\n"
   ]
  },
  {
   "cell_type": "code",
   "execution_count": 5,
   "id": "8afa48cb",
   "metadata": {},
   "outputs": [
    {
     "data": {
      "image/png": "[encoded data removed]",
      "text/plain": [
       "<Figure size 432x288 with 1 Axes>"
      ]
     },
     "metadata": {},
     "output_type": "display_data"
    }
   ],
   "source": [
    "\n",
    "x = df['Age'].values\n",
    "y = df['EmpHourlyRate'].values\n",
    "sns.kdeplot(x, y, cmap=cmap, shade=True).set( title = 'Age against EmpHourlyRate')\n",
    "cmap = sns.cubehelix_palette(start=0.333333333333, light=1, as_cmap=True)"
   ]
  },
  {
   "cell_type": "code",
   "execution_count": 6,
   "id": "34b12ffe",
   "metadata": {},
   "outputs": [
    {
     "data": {
      "image/png": "[encoded data removed]",
      "text/plain": [
       "<Figure size 432x288 with 1 Axes>"
      ]
     },
     "metadata": {},
     "output_type": "display_data"
    }
   ],
   "source": [
    "\n",
    "x = df['Age'].values\n",
    "y = df['ExperienceYearsInCurrentRole'].values\n",
    "sns.kdeplot(x, y, cmap=cmap, shade=True).set( title = ' Age against ExperienceYearsInCurrentRole ')\n",
    "cmap = sns.cubehelix_palette(start=1.0, light=1, as_cmap=True)"
   ]
  },
  {
   "cell_type": "code",
   "execution_count": 7,
   "id": "832b2111",
   "metadata": {},
   "outputs": [
    {
     "data": {
      "image/png": "[encoded data removed]",
      "text/plain": [
       "<Figure size 432x288 with 1 Axes>"
      ]
     },
     "metadata": {},
     "output_type": "display_data"
    }
   ],
   "source": [
    "\n",
    "x = df['EmpHourlyRate'].values\n",
    "y = df['DistanceFromHome'].values\n",
    "sns.kdeplot(x, y, cmap=cmap, shade=True).set( title = 'EmpHourlyRate against DistancefromHome')\n",
    "cmap = sns.cubehelix_palette(start=1.333333333333, light=1, as_cmap=True)\n",
    "plt.show()"
   ]
  },
  {
   "cell_type": "code",
   "execution_count": 8,
   "id": "2b133892",
   "metadata": {},
   "outputs": [
    {
     "data": {
      "image/png": "[encoded data removed]",
      "text/plain": [
       "<Figure size 432x288 with 1 Axes>"
      ]
     },
     "metadata": {},
     "output_type": "display_data"
    }
   ],
   "source": [
    "# Generate and plot\n",
    "x = df['EmpHourlyRate'].values\n",
    "y = df['EmpJobSatisfaction'].values\n",
    "sns.kdeplot(x, y, cmap=cmap, shade=True).set( title = 'EmpHourlyRate against Job satisfaction')\n",
    "cmap = sns.cubehelix_palette(start=1.666666666667, light=1, as_cmap=True)"
   ]
  },
  {
   "cell_type": "code",
   "execution_count": 9,
   "id": "3d99b0f9",
   "metadata": {},
   "outputs": [
    {
     "data": {
      "image/png": "[encoded data removed]",
      "text/plain": [
       "<Figure size 432x288 with 1 Axes>"
      ]
     },
     "metadata": {},
     "output_type": "display_data"
    }
   ],
   "source": [
    "# Generate and plot\n",
    "x = df['EmpHourlyRate'].values\n",
    "y = df['ExperienceYearsAtThisCompany'].values\n",
    "sns.kdeplot(x, y, cmap=cmap, shade=True).set( title = 'EmpHourlyRate against ExperienceYearsAtThisCompany')\n",
    "cmap = sns.cubehelix_palette(start=2.0, light=1, as_cmap=True)"
   ]
  },
  {
   "cell_type": "code",
   "execution_count": 10,
   "id": "e5491ac9",
   "metadata": {},
   "outputs": [
    {
     "data": {
      "image/png": "[encoded data removed]",
      "text/plain": [
       "<Figure size 432x288 with 1 Axes>"
      ]
     },
     "metadata": {},
     "output_type": "display_data"
    }
   ],
   "source": [
    "# Generate and plot\n",
    "x = df['EmpEducationLevel'].values\n",
    "y = df['EmpHourlyRate'].values\n",
    "sns.kdeplot(x, y, cmap=cmap, shade=True).set( title = 'EmpEducationLevel against EmpHourlyRate')\n",
    "\n",
    "cmap = sns.cubehelix_palette(start=2.333333333333, light=1, as_cmap=True)"
   ]
  },
  {
   "cell_type": "code",
   "execution_count": 11,
   "id": "3ce0e481",
   "metadata": {},
   "outputs": [
    {
     "data": {
      "image/png": "[encoded data removed]",
      "text/plain": [
       "<Figure size 432x288 with 1 Axes>"
      ]
     },
     "metadata": {},
     "output_type": "display_data"
    }
   ],
   "source": [
    "x = df['EmpEducationLevel'].values\n",
    "y = df['EmpLastSalaryHikePercent'].values\n",
    "sns.kdeplot(x, y, cmap=cmap, shade=True).set( title = 'EmpEducationLevel Satisfaction vs EmpLastSalaryHikePercent')\n",
    "\n",
    "cmap = sns.cubehelix_palette(start=2.666666666667, light=1, as_cmap=True)"
   ]
  },
  {
   "cell_type": "code",
   "execution_count": 12,
   "id": "a71187d4",
   "metadata": {},
   "outputs": [
    {
     "data": {
      "image/png": "[encoded data removed]",
      "text/plain": [
       "<Figure size 432x288 with 1 Axes>"
      ]
     },
     "metadata": {},
     "output_type": "display_data"
    }
   ],
   "source": [
    "# Generate and plot\n",
    "x = df['EmpEducationLevel'].values\n",
    "y = df['ExperienceYearsInCurrentRole'].values\n",
    "sns.kdeplot(x, y, cmap=cmap, shade=True).set( title = 'EmpEducationLevel against ExperienceYearsInCurrentRole')\n",
    "plt.show()"
   ]
  },
  {
   "cell_type": "markdown",
   "id": "ca2a1c20",
   "metadata": {},
   "source": [
    " #### <span style=\"font-family:cursive\">Numerical Feature Data Analysis </span> \n",
    " >This helps us determine, among other early insights, how representative is the training dataset of the actual problem domain.the distribution can be derived or visualized using the density map between the numerical or categorical features present in the data. \n",
    " \n",
    "- [X] The age distribution is starting from 18 to 60 where the most of the employees are lying between **30 to 40** age count.\n",
    "- [X] The distance from home to office is distributing from 0 unit to 30 unit which can be kilometre or mile. The most of the employees are coming from the range of 0 to 5 units.\n",
    "- [X] Employees are worked in the multiple companies up to **8** companies where most of the employees worked up to **2** companies before getting to work here.\n",
    "- [X] The hourly rate range is **65 to 95** for majority employees work in this company.\n",
    "- [X] In General, Most of Employees work up to **5** years in this company.\n",
    "- [X] Most of the employees get 11%  to 15% of salary hike in this company.\n",
    "\n",
    "#### <span style=\"font-family:cursive\">categorical Feature Data Analysis </span> \n",
    "\n",
    "- [X] The Gender variance is divided by **60%** of Male employees and **40%** of Female employees in the company. \n",
    "- [X] The number of the educational backgrounds present in the employees is **six** unique backgrounds.\n",
    "- [X] nineteen unique employee job roles are present in this company.\n",
    "- [X] The most of the employees are having the education level of **3**\n",
    "- [X] The Job satisfaction level in this company is high level for the majority of employees.\n",
    "- [X] The **85%** of employees are not having attrition in their work\n",
    "- [X] only **11%** of employees in the company were achieved **level 4** - performance rating \n",
    "- [X] The overall percentage of employees doing overtime is **30%**"
   ]
  },
  {
   "cell_type": "markdown",
   "id": "ef91efa0",
   "metadata": {},
   "source": [
    "#### <span style=\"font-family:cursive\">Checking Feature Correlation </span> \n",
    ">The next tool in a data explorer's arsenal is that of a correlation matrix. By plotting a correlation matrix, we have a very nice overview of how the features are related to one another. "
   ]
  },
  {
   "cell_type": "code",
   "execution_count": 13,
   "id": "80954a33",
   "metadata": {},
   "outputs": [
    {
     "data": {
      "application/vnd.plotly.v1+json": {
       "config": {
        "linkText": "Export to plot.ly",
        "plotlyServerURL": "https://plot.ly",
        "showLink": false
       },
       "data": [
        {
         "colorscale": [
          [
           0,
           "rgb(255,255,255)"
          ],
          [
           0.125,
           "rgb(240,240,240)"
          ],
          [
           0.25,
           "rgb(217,217,217)"
          ],
          [
           0.375,
           "rgb(189,189,189)"
          ],
          [
           0.5,
           "rgb(150,150,150)"
          ],
          [
           0.625,
           "rgb(115,115,115)"
          ],
          [
           0.75,
           "rgb(82,82,82)"
          ],
          [
           0.875,
           "rgb(37,37,37)"
          ],
          [
           1,
           "rgb(0,0,0)"
          ]
         ],
         "opacity": 1,
         "reversescale": false,
         "type": "heatmap",
         "x": [
          "Age",
          "DistanceFromHome",
          "EmpEducationLevel",
          "EmpEnvironmentSatisfaction",
          "EmpHourlyRate",
          "EmpJobInvolvement",
          "EmpJobLevel",
          "EmpJobSatisfaction",
          "NumCompaniesWorked",
          "EmpLastSalaryHikePercent",
          "EmpRelationshipSatisfaction",
          "TotalWorkExperienceInYears",
          "TrainingTimesLastYear",
          "EmpWorkLifeBalance",
          "ExperienceYearsAtThisCompany",
          "ExperienceYearsInCurrentRole",
          "YearsSinceLastPromotion",
          "YearsWithCurrManager",
          "PerformanceRating"
         ],
         "y": [
          "Age",
          "DistanceFromHome",
          "EmpEducationLevel",
          "EmpEnvironmentSatisfaction",
          "EmpHourlyRate",
          "EmpJobInvolvement",
          "EmpJobLevel",
          "EmpJobSatisfaction",
          "NumCompaniesWorked",
          "EmpLastSalaryHikePercent",
          "EmpRelationshipSatisfaction",
          "TotalWorkExperienceInYears",
          "TrainingTimesLastYear",
          "EmpWorkLifeBalance",
          "ExperienceYearsAtThisCompany",
          "ExperienceYearsInCurrentRole",
          "YearsSinceLastPromotion",
          "YearsWithCurrManager",
          "PerformanceRating"
         ],
         "z": [
          [
           1,
           0.020936749536281087,
           0.20731261028871145,
           0.01381422496577943,
           0.0628666282863136,
           0.027216471473530502,
           0.5091391713818485,
           -0.0024356191124632926,
           0.2844084576976676,
           -0.006105156365021786,
           0.04974901926939412,
           0.6808863776423193,
           -0.016053107102303073,
           -0.01956285825934683,
           0.3188515226818484,
           0.21716250666536419,
           0.22819931916905006,
           0.20509822032722205,
           -0.040164149887202294
          ],
          [
           0.020936749536281087,
           1,
           0.04585556721691969,
           -0.017718925702690517,
           0.013730433464558652,
           0.0032307386618915883,
           0.01726984306348574,
           -0.003036032597944144,
           -0.021410562245319037,
           0.04497396914547221,
           -0.009508916507753344,
           0.02730593309886023,
           -0.0320816216221785,
           -0.04478796567018094,
           0.02190812800670381,
           0.01989812662510041,
           0.01324618910948856,
           0.01785972653146319,
           -0.046142192028541876
          ],
          [
           0.20731261028871145,
           0.04585556721691969,
           1,
           -0.03710300489090461,
           0.014094843707240725,
           0.027544402029360027,
           0.10073374627976267,
           0.00035735002789448364,
           0.12867388176113204,
           0.002357750416763201,
           -0.016690237904632012,
           0.1510621856878257,
           -0.013673515276811207,
           0.010276451085748324,
           0.076331944663788,
           0.06667154814699408,
           0.0543128629259646,
           0.08898782229628754,
           0.020529042456465713
          ],
          [
           0.01381422496577943,
           -0.017718925702690517,
           -0.03710300489090461,
           1,
           -0.04950083697620006,
           0.004864600344364084,
           -0.008271564211090302,
           -0.0043190509060789025,
           0.0172698533731677,
           -0.04727077080788636,
           -0.01050449696094975,
           -0.012894424882358292,
           0.001191904003371839,
           -0.00026152119868586737,
           -0.0005606612569105495,
           0.02549147691765949,
           0.010732276434404407,
           -0.011702487849725324,
           0.3955609960685299
          ],
          [
           0.0628666282863136,
           0.013730433464558652,
           0.014094843707240725,
           -0.04950083697620006,
           1,
           0.05474117264073843,
           -0.018606286915593625,
           -0.06641696591650202,
           0.040484148221211144,
           -0.015934157857078197,
           0.008783333835773191,
           0.02603430942754555,
           -0.024159739259631767,
           0.016188867945037894,
           -0.00039893221033234557,
           -0.011871030699667974,
           -0.010000466295698753,
           -0.00457551298096692,
           -0.043116189204810994
          ],
          [
           0.027216471473530502,
           0.0032307386618915883,
           0.027544402029360027,
           0.004864600344364084,
           0.05474117264073843,
           1,
           -0.03434924023304624,
           -0.005501210142034112,
           0.018211218585994747,
           -0.0017418159796223002,
           0.0180367767831678,
           -0.028851098268296304,
           -0.025168121169776386,
           -0.014128925673039965,
           -0.03971956084951093,
           0.002910086766775183,
           -0.019944282133051158,
           0.01292432525985184,
           -0.01053929958383209
          ],
          [
           0.5091391713818485,
           0.01726984306348574,
           0.10073374627976267,
           -0.008271564211090302,
           -0.018606286915593625,
           -0.03434924023304624,
           1,
           -0.011852874107879757,
           0.12747745935975902,
           -0.02097517451477892,
           0.0029920842851915417,
           0.7842285875836238,
           -0.00038880268266966184,
           0.04921824796843715,
           0.5403771052798658,
           0.39923497329901786,
           0.360880328918183,
           0.3748721222170992,
           -0.0766315895825677
          ],
          [
           -0.0024356191124632926,
           -0.003036032597944144,
           0.00035735002789448364,
           -0.0043190509060789025,
           -0.06641696591650202,
           -0.005501210142034112,
           -0.011852874107879757,
           1,
           -0.04986503111207008,
           0.03184702528894032,
           -0.022027608220205913,
           -0.02682358268451831,
           -0.02803105530088344,
           -0.018547939787863333,
           0.0018071701566862188,
           0.0020178140488949143,
           -0.006507587097721607,
           -0.022096349636836318,
           0.0006059418771471361
          ],
          [
           0.2844084576976676,
           -0.021410562245319037,
           0.12867388176113204,
           0.0172698533731677,
           0.040484148221211144,
           0.018211218585994747,
           0.12747745935975902,
           -0.04986503111207008,
           1,
           -0.011788363394886103,
           0.05791660546474718,
           0.22150515223959358,
           -0.050816665811476126,
           0.0024894968835774364,
           -0.12979664049510412,
           -0.09727052001908444,
           -0.031655840608745565,
           -0.10993749792314789,
           0.020979618743500433
          ],
          [
           -0.006105156365021786,
           0.04497396914547221,
           0.002357750416763201,
           -0.04727077080788636,
           -0.015934157857078197,
           -0.0017418159796223002,
           -0.02097517451477892,
           0.03184702528894032,
           -0.011788363394886103,
           1,
           -0.04289155923075875,
           -0.005932752661816317,
           -0.013438951880881492,
           -0.017001257577963766,
           -0.019830244740937062,
           -0.004956823684626833,
           -0.015910895508927055,
           -0.007666145291894643,
           0.33372182156224617
          ],
          [
           0.04974901926939412,
           -0.009508916507753344,
           -0.016690237904632012,
           -0.01050449696094975,
           0.008783333835773191,
           0.0180367767831678,
           0.0029920842851915417,
           -0.022027608220205913,
           0.05791660546474718,
           -0.04289155923075875,
           1,
           0.01808862306500421,
           0.025974863022116993,
           -0.004905881105480947,
           0.01561160359566759,
           -0.032130869307114944,
           0.026252583970345217,
           -0.00642576117467634,
           -0.019501527252275365
          ],
          [
           0.6808863776423193,
           0.02730593309886023,
           0.1510621856878257,
           -0.012894424882358292,
           0.02603430942754555,
           -0.028851098268296304,
           0.7842285875836238,
           -0.02682358268451831,
           0.22150515223959358,
           -0.005932752661816317,
           0.01808862306500421,
           1,
           -0.02211262943028466,
           0.015494715356309717,
           0.633554768463762,
           0.4607001585561291,
           0.4127805468802949,
           0.4607832185819649,
           -0.06814118450453542
          ],
          [
           -0.016053107102303073,
           -0.0320816216221785,
           -0.013673515276811207,
           0.001191904003371839,
           -0.024159739259631767,
           -0.025168121169776386,
           -0.00038880268266966184,
           -0.02803105530088344,
           -0.050816665811476126,
           -0.013438951880881492,
           0.025974863022116993,
           -0.02211262943028466,
           1,
           0.03704790532553145,
           0.008564417252240764,
           0.010221895769387137,
           0.01883117055348924,
           -0.01323663516132205,
           -0.0054430680449569216
          ],
          [
           -0.01956285825934683,
           -0.04478796567018094,
           0.010276451085748324,
           -0.00026152119868586737,
           0.016188867945037894,
           -0.014128925673039965,
           0.04921824796843715,
           -0.018547939787863333,
           0.0024894968835774364,
           -0.017001257577963766,
           -0.004905881105480947,
           0.015494715356309717,
           0.03704790532553145,
           1,
           0.023478732469248254,
           0.045718769156818426,
           0.015772783872479056,
           0.010517595452149354,
           0.12442896010503166
          ],
          [
           0.3188515226818484,
           0.02190812800670381,
           0.076331944663788,
           -0.0005606612569105495,
           -0.00039893221033234557,
           -0.03971956084951093,
           0.5403771052798658,
           0.0018071701566862188,
           -0.12979664049510412,
           -0.019830244740937062,
           0.01561160359566759,
           0.633554768463762,
           0.008564417252240764,
           0.023478732469248254,
           1,
           0.764101587123479,
           0.620230269214471,
           0.7592581958041325,
           -0.11164534236127022
          ],
          [
           0.21716250666536419,
           0.01989812662510041,
           0.06667154814699408,
           0.02549147691765949,
           -0.011871030699667974,
           0.002910086766775183,
           0.39923497329901786,
           0.0020178140488949143,
           -0.09727052001908444,
           -0.004956823684626833,
           -0.032130869307114944,
           0.4607001585561291,
           0.010221895769387137,
           0.045718769156818426,
           0.764101587123479,
           1,
           0.5406004608224716,
           0.7289728836492501,
           -0.14763779523720283
          ],
          [
           0.22819931916905006,
           0.01324618910948856,
           0.0543128629259646,
           0.010732276434404407,
           -0.010000466295698753,
           -0.019944282133051158,
           0.360880328918183,
           -0.006507587097721607,
           -0.031655840608745565,
           -0.015910895508927055,
           0.026252583970345217,
           0.4127805468802949,
           0.01883117055348924,
           0.015772783872479056,
           0.620230269214471,
           0.5406004608224716,
           1,
           0.4911987614363873,
           -0.16762909785906416
          ],
          [
           0.20509822032722205,
           0.01785972653146319,
           0.08898782229628754,
           -0.011702487849725324,
           -0.00457551298096692,
           0.01292432525985184,
           0.3748721222170992,
           -0.022096349636836318,
           -0.10993749792314789,
           -0.007666145291894643,
           -0.00642576117467634,
           0.4607832185819649,
           -0.01323663516132205,
           0.010517595452149354,
           0.7592581958041325,
           0.7289728836492501,
           0.4911987614363873,
           1,
           -0.12231281881984066
          ],
          [
           -0.040164149887202294,
           -0.046142192028541876,
           0.020529042456465713,
           0.3955609960685299,
           -0.043116189204810994,
           -0.01053929958383209,
           -0.0766315895825677,
           0.0006059418771471361,
           0.020979618743500433,
           0.33372182156224617,
           -0.019501527252275365,
           -0.06814118450453542,
           -0.0054430680449569216,
           0.12442896010503166,
           -0.11164534236127022,
           -0.14763779523720283,
           -0.16762909785906416,
           -0.12231281881984066,
           1
          ]
         ]
        }
       ],
       "layout": {
        "height": 700,
        "template": {
         "data": {
          "bar": [
           {
            "error_x": {
             "color": "#2a3f5f"
            },
            "error_y": {
             "color": "#2a3f5f"
            },
            "marker": {
             "line": {
              "color": "#E5ECF6",
              "width": 0.5
             },
             "pattern": {
              "fillmode": "overlay",
              "size": 10,
              "solidity": 0.2
             }
            },
            "type": "bar"
           }
          ],
          "barpolar": [
           {
            "marker": {
             "line": {
              "color": "#E5ECF6",
              "width": 0.5
             },
             "pattern": {
              "fillmode": "overlay",
              "size": 10,
              "solidity": 0.2
             }
            },
            "type": "barpolar"
           }
          ],
          "carpet": [
           {
            "aaxis": {
             "endlinecolor": "#2a3f5f",
             "gridcolor": "white",
             "linecolor": "white",
             "minorgridcolor": "white",
             "startlinecolor": "#2a3f5f"
            },
            "baxis": {
             "endlinecolor": "#2a3f5f",
             "gridcolor": "white",
             "linecolor": "white",
             "minorgridcolor": "white",
             "startlinecolor": "#2a3f5f"
            },
            "type": "carpet"
           }
          ],
          "choropleth": [
           {
            "colorbar": {
             "outlinewidth": 0,
             "ticks": ""
            },
            "type": "choropleth"
           }
          ],
          "contour": [
           {
            "colorbar": {
             "outlinewidth": 0,
             "ticks": ""
            },
            "colorscale": [
             [
              0,
              "#0d0887"
             ],
             [
              0.1111111111111111,
              "#46039f"
             ],
             [
              0.2222222222222222,
              "#7201a8"
             ],
             [
              0.3333333333333333,
              "#9c179e"
             ],
             [
              0.4444444444444444,
              "#bd3786"
             ],
             [
              0.5555555555555556,
              "#d8576b"
             ],
             [
              0.6666666666666666,
              "#ed7953"
             ],
             [
              0.7777777777777778,
              "#fb9f3a"
             ],
             [
              0.8888888888888888,
              "#fdca26"
             ],
             [
              1,
              "#f0f921"
             ]
            ],
            "type": "contour"
           }
          ],
          "contourcarpet": [
           {
            "colorbar": {
             "outlinewidth": 0,
             "ticks": ""
            },
            "type": "contourcarpet"
           }
          ],
          "heatmap": [
           {
            "colorbar": {
             "outlinewidth": 0,
             "ticks": ""
            },
            "colorscale": [
             [
              0,
              "#0d0887"
             ],
             [
              0.1111111111111111,
              "#46039f"
             ],
             [
              0.2222222222222222,
              "#7201a8"
             ],
             [
              0.3333333333333333,
              "#9c179e"
             ],
             [
              0.4444444444444444,
              "#bd3786"
             ],
             [
              0.5555555555555556,
              "#d8576b"
             ],
             [
              0.6666666666666666,
              "#ed7953"
             ],
             [
              0.7777777777777778,
              "#fb9f3a"
             ],
             [
              0.8888888888888888,
              "#fdca26"
             ],
             [
              1,
              "#f0f921"
             ]
            ],
            "type": "heatmap"
           }
          ],
          "heatmapgl": [
           {
            "colorbar": {
             "outlinewidth": 0,
             "ticks": ""
            },
            "colorscale": [
             [
              0,
              "#0d0887"
             ],
             [
              0.1111111111111111,
              "#46039f"
             ],
             [
              0.2222222222222222,
              "#7201a8"
             ],
             [
              0.3333333333333333,
              "#9c179e"
             ],
             [
              0.4444444444444444,
              "#bd3786"
             ],
             [
              0.5555555555555556,
              "#d8576b"
             ],
             [
              0.6666666666666666,
              "#ed7953"
             ],
             [
              0.7777777777777778,
              "#fb9f3a"
             ],
             [
              0.8888888888888888,
              "#fdca26"
             ],
             [
              1,
              "#f0f921"
             ]
            ],
            "type": "heatmapgl"
           }
          ],
          "histogram": [
           {
            "marker": {
             "pattern": {
              "fillmode": "overlay",
              "size": 10,
              "solidity": 0.2
             }
            },
            "type": "histogram"
           }
          ],
          "histogram2d": [
           {
            "colorbar": {
             "outlinewidth": 0,
             "ticks": ""
            },
            "colorscale": [
             [
              0,
              "#0d0887"
             ],
             [
              0.1111111111111111,
              "#46039f"
             ],
             [
              0.2222222222222222,
              "#7201a8"
             ],
             [
              0.3333333333333333,
              "#9c179e"
             ],
             [
              0.4444444444444444,
              "#bd3786"
             ],
             [
              0.5555555555555556,
              "#d8576b"
             ],
             [
              0.6666666666666666,
              "#ed7953"
             ],
             [
              0.7777777777777778,
              "#fb9f3a"
             ],
             [
              0.8888888888888888,
              "#fdca26"
             ],
             [
              1,
              "#f0f921"
             ]
            ],
            "type": "histogram2d"
           }
          ],
          "histogram2dcontour": [
           {
            "colorbar": {
             "outlinewidth": 0,
             "ticks": ""
            },
            "colorscale": [
             [
              0,
              "#0d0887"
             ],
             [
              0.1111111111111111,
              "#46039f"
             ],
             [
              0.2222222222222222,
              "#7201a8"
             ],
             [
              0.3333333333333333,
              "#9c179e"
             ],
             [
              0.4444444444444444,
              "#bd3786"
             ],
             [
              0.5555555555555556,
              "#d8576b"
             ],
             [
              0.6666666666666666,
              "#ed7953"
             ],
             [
              0.7777777777777778,
              "#fb9f3a"
             ],
             [
              0.8888888888888888,
              "#fdca26"
             ],
             [
              1,
              "#f0f921"
             ]
            ],
            "type": "histogram2dcontour"
           }
          ],
          "mesh3d": [
           {
            "colorbar": {
             "outlinewidth": 0,
             "ticks": ""
            },
            "type": "mesh3d"
           }
          ],
          "parcoords": [
           {
            "line": {
             "colorbar": {
              "outlinewidth": 0,
              "ticks": ""
             }
            },
            "type": "parcoords"
           }
          ],
          "pie": [
           {
            "automargin": true,
            "type": "pie"
           }
          ],
          "scatter": [
           {
            "marker": {
             "colorbar": {
              "outlinewidth": 0,
              "ticks": ""
             }
            },
            "type": "scatter"
           }
          ],
          "scatter3d": [
           {
            "line": {
             "colorbar": {
              "outlinewidth": 0,
              "ticks": ""
             }
            },
            "marker": {
             "colorbar": {
              "outlinewidth": 0,
              "ticks": ""
             }
            },
            "type": "scatter3d"
           }
          ],
          "scattercarpet": [
           {
            "marker": {
             "colorbar": {
              "outlinewidth": 0,
              "ticks": ""
             }
            },
            "type": "scattercarpet"
           }
          ],
          "scattergeo": [
           {
            "marker": {
             "colorbar": {
              "outlinewidth": 0,
              "ticks": ""
             }
            },
            "type": "scattergeo"
           }
          ],
          "scattergl": [
           {
            "marker": {
             "colorbar": {
              "outlinewidth": 0,
              "ticks": ""
             }
            },
            "type": "scattergl"
           }
          ],
          "scattermapbox": [
           {
            "marker": {
             "colorbar": {
              "outlinewidth": 0,
              "ticks": ""
             }
            },
            "type": "scattermapbox"
           }
          ],
          "scatterpolar": [
           {
            "marker": {
             "colorbar": {
              "outlinewidth": 0,
              "ticks": ""
             }
            },
            "type": "scatterpolar"
           }
          ],
          "scatterpolargl": [
           {
            "marker": {
             "colorbar": {
              "outlinewidth": 0,
              "ticks": ""
             }
            },
            "type": "scatterpolargl"
           }
          ],
          "scatterternary": [
           {
            "marker": {
             "colorbar": {
              "outlinewidth": 0,
              "ticks": ""
             }
            },
            "type": "scatterternary"
           }
          ],
          "surface": [
           {
            "colorbar": {
             "outlinewidth": 0,
             "ticks": ""
            },
            "colorscale": [
             [
              0,
              "#0d0887"
             ],
             [
              0.1111111111111111,
              "#46039f"
             ],
             [
              0.2222222222222222,
              "#7201a8"
             ],
             [
              0.3333333333333333,
              "#9c179e"
             ],
             [
              0.4444444444444444,
              "#bd3786"
             ],
             [
              0.5555555555555556,
              "#d8576b"
             ],
             [
              0.6666666666666666,
              "#ed7953"
             ],
             [
              0.7777777777777778,
              "#fb9f3a"
             ],
             [
              0.8888888888888888,
              "#fdca26"
             ],
             [
              1,
              "#f0f921"
             ]
            ],
            "type": "surface"
           }
          ],
          "table": [
           {
            "cells": {
             "fill": {
              "color": "#EBF0F8"
             },
             "line": {
              "color": "white"
             }
            },
            "header": {
             "fill": {
              "color": "#C8D4E3"
             },
             "line": {
              "color": "white"
             }
            },
            "type": "table"
           }
          ]
         },
         "layout": {
          "annotationdefaults": {
           "arrowcolor": "#2a3f5f",
           "arrowhead": 0,
           "arrowwidth": 1
          },
          "autotypenumbers": "strict",
          "coloraxis": {
           "colorbar": {
            "outlinewidth": 0,
            "ticks": ""
           }
          },
          "colorscale": {
           "diverging": [
            [
             0,
             "#8e0152"
            ],
            [
             0.1,
             "#c51b7d"
            ],
            [
             0.2,
             "#de77ae"
            ],
            [
             0.3,
             "#f1b6da"
            ],
            [
             0.4,
             "#fde0ef"
            ],
            [
             0.5,
             "#f7f7f7"
            ],
            [
             0.6,
             "#e6f5d0"
            ],
            [
             0.7,
             "#b8e186"
            ],
            [
             0.8,
             "#7fbc41"
            ],
            [
             0.9,
             "#4d9221"
            ],
            [
             1,
             "#276419"
            ]
           ],
           "sequential": [
            [
             0,
             "#0d0887"
            ],
            [
             0.1111111111111111,
             "#46039f"
            ],
            [
             0.2222222222222222,
             "#7201a8"
            ],
            [
             0.3333333333333333,
             "#9c179e"
            ],
            [
             0.4444444444444444,
             "#bd3786"
            ],
            [
             0.5555555555555556,
             "#d8576b"
            ],
            [
             0.6666666666666666,
             "#ed7953"
            ],
            [
             0.7777777777777778,
             "#fb9f3a"
            ],
            [
             0.8888888888888888,
             "#fdca26"
            ],
            [
             1,
             "#f0f921"
            ]
           ],
           "sequentialminus": [
            [
             0,
             "#0d0887"
            ],
            [
             0.1111111111111111,
             "#46039f"
            ],
            [
             0.2222222222222222,
             "#7201a8"
            ],
            [
             0.3333333333333333,
             "#9c179e"
            ],
            [
             0.4444444444444444,
             "#bd3786"
            ],
            [
             0.5555555555555556,
             "#d8576b"
            ],
            [
             0.6666666666666666,
             "#ed7953"
            ],
            [
             0.7777777777777778,
             "#fb9f3a"
            ],
            [
             0.8888888888888888,
             "#fdca26"
            ],
            [
             1,
             "#f0f921"
            ]
           ]
          },
          "colorway": [
           "#636efa",
           "#EF553B",
           "#00cc96",
           "#ab63fa",
           "#FFA15A",
           "#19d3f3",
           "#FF6692",
           "#B6E880",
           "#FF97FF",
           "#FECB52"
          ],
          "font": {
           "color": "#2a3f5f"
          },
          "geo": {
           "bgcolor": "white",
           "lakecolor": "white",
           "landcolor": "#E5ECF6",
           "showlakes": true,
           "showland": true,
           "subunitcolor": "white"
          },
          "hoverlabel": {
           "align": "left"
          },
          "hovermode": "closest",
          "mapbox": {
           "style": "light"
          },
          "paper_bgcolor": "white",
          "plot_bgcolor": "#E5ECF6",
          "polar": {
           "angularaxis": {
            "gridcolor": "white",
            "linecolor": "white",
            "ticks": ""
           },
           "bgcolor": "#E5ECF6",
           "radialaxis": {
            "gridcolor": "white",
            "linecolor": "white",
            "ticks": ""
           }
          },
          "scene": {
           "xaxis": {
            "backgroundcolor": "#E5ECF6",
            "gridcolor": "white",
            "gridwidth": 2,
            "linecolor": "white",
            "showbackground": true,
            "ticks": "",
            "zerolinecolor": "white"
           },
           "yaxis": {
            "backgroundcolor": "#E5ECF6",
            "gridcolor": "white",
            "gridwidth": 2,
            "linecolor": "white",
            "showbackground": true,
            "ticks": "",
            "zerolinecolor": "white"
           },
           "zaxis": {
            "backgroundcolor": "#E5ECF6",
            "gridcolor": "white",
            "gridwidth": 2,
            "linecolor": "white",
            "showbackground": true,
            "ticks": "",
            "zerolinecolor": "white"
           }
          },
          "shapedefaults": {
           "line": {
            "color": "#2a3f5f"
           }
          },
          "ternary": {
           "aaxis": {
            "gridcolor": "white",
            "linecolor": "white",
            "ticks": ""
           },
           "baxis": {
            "gridcolor": "white",
            "linecolor": "white",
            "ticks": ""
           },
           "bgcolor": "#E5ECF6",
           "caxis": {
            "gridcolor": "white",
            "linecolor": "white",
            "ticks": ""
           }
          },
          "title": {
           "x": 0.05
          },
          "xaxis": {
           "automargin": true,
           "gridcolor": "white",
           "linecolor": "white",
           "ticks": "",
           "title": {
            "standoff": 15
           },
           "zerolinecolor": "white",
           "zerolinewidth": 2
          },
          "yaxis": {
           "automargin": true,
           "gridcolor": "white",
           "linecolor": "white",
           "ticks": "",
           "title": {
            "standoff": 15
           },
           "zerolinecolor": "white",
           "zerolinewidth": 2
          }
         }
        },
        "title": {
         "text": "Pearson Correlation for Numerical Features"
        },
        "width": 800,
        "xaxis": {
         "nticks": 36,
         "ticks": ""
        },
        "yaxis": {
         "ticks": ""
        }
       }
      },
      "text/html": [
       "<div>                            <div id=\"8a279c23-3075-4bbb-ae2a-2ef09bbb8751\" class=\"plotly-graph-div\" style=\"height:700px; width:800px;\"></div>            <script type=\"text/javascript\">                require([\"plotly\"], function(Plotly) {                    window.PLOTLYENV=window.PLOTLYENV || {};                                    if (document.getElementById(\"8a279c23-3075-4bbb-ae2a-2ef09bbb8751\")) {                    Plotly.newPlot(                        \"8a279c23-3075-4bbb-ae2a-2ef09bbb8751\",                        [{\"colorscale\":[[0.0,\"rgb(255,255,255)\"],[0.125,\"rgb(240,240,240)\"],[0.25,\"rgb(217,217,217)\"],[0.375,\"rgb(189,189,189)\"],[0.5,\"rgb(150,150,150)\"],[0.625,\"rgb(115,115,115)\"],[0.75,\"rgb(82,82,82)\"],[0.875,\"rgb(37,37,37)\"],[1.0,\"rgb(0,0,0)\"]],\"opacity\":1.0,\"reversescale\":false,\"x\":[\"Age\",\"DistanceFromHome\",\"EmpEducationLevel\",\"EmpEnvironmentSatisfaction\",\"EmpHourlyRate\",\"EmpJobInvolvement\",\"EmpJobLevel\",\"EmpJobSatisfaction\",\"NumCompaniesWorked\",\"EmpLastSalaryHikePercent\",\"EmpRelationshipSatisfaction\",\"TotalWorkExperienceInYears\",\"TrainingTimesLastYear\",\"EmpWorkLifeBalance\",\"ExperienceYearsAtThisCompany\",\"ExperienceYearsInCurrentRole\",\"YearsSinceLastPromotion\",\"YearsWithCurrManager\",\"PerformanceRating\"],\"y\":[\"Age\",\"DistanceFromHome\",\"EmpEducationLevel\",\"EmpEnvironmentSatisfaction\",\"EmpHourlyRate\",\"EmpJobInvolvement\",\"EmpJobLevel\",\"EmpJobSatisfaction\",\"NumCompaniesWorked\",\"EmpLastSalaryHikePercent\",\"EmpRelationshipSatisfaction\",\"TotalWorkExperienceInYears\",\"TrainingTimesLastYear\",\"EmpWorkLifeBalance\",\"ExperienceYearsAtThisCompany\",\"ExperienceYearsInCurrentRole\",\"YearsSinceLastPromotion\",\"YearsWithCurrManager\",\"PerformanceRating\"],\"z\":[[1.0,0.020936749536281087,0.20731261028871145,0.01381422496577943,0.0628666282863136,0.027216471473530502,0.5091391713818485,-0.0024356191124632926,0.2844084576976676,-0.006105156365021786,0.04974901926939412,0.6808863776423193,-0.016053107102303073,-0.01956285825934683,0.3188515226818484,0.21716250666536419,0.22819931916905006,0.20509822032722205,-0.040164149887202294],[0.020936749536281087,1.0,0.04585556721691969,-0.017718925702690517,0.013730433464558652,0.0032307386618915883,0.01726984306348574,-0.003036032597944144,-0.021410562245319037,0.04497396914547221,-0.009508916507753344,0.02730593309886023,-0.0320816216221785,-0.04478796567018094,0.02190812800670381,0.01989812662510041,0.01324618910948856,0.01785972653146319,-0.046142192028541876],[0.20731261028871145,0.04585556721691969,1.0,-0.03710300489090461,0.014094843707240725,0.027544402029360027,0.10073374627976267,0.00035735002789448364,0.12867388176113204,0.002357750416763201,-0.016690237904632012,0.1510621856878257,-0.013673515276811207,0.010276451085748324,0.076331944663788,0.06667154814699408,0.0543128629259646,0.08898782229628754,0.020529042456465713],[0.01381422496577943,-0.017718925702690517,-0.03710300489090461,1.0,-0.04950083697620006,0.004864600344364084,-0.008271564211090302,-0.0043190509060789025,0.0172698533731677,-0.04727077080788636,-0.01050449696094975,-0.012894424882358292,0.001191904003371839,-0.00026152119868586737,-0.0005606612569105495,0.02549147691765949,0.010732276434404407,-0.011702487849725324,0.3955609960685299],[0.0628666282863136,0.013730433464558652,0.014094843707240725,-0.04950083697620006,1.0,0.05474117264073843,-0.018606286915593625,-0.06641696591650202,0.040484148221211144,-0.015934157857078197,0.008783333835773191,0.02603430942754555,-0.024159739259631767,0.016188867945037894,-0.00039893221033234557,-0.011871030699667974,-0.010000466295698753,-0.00457551298096692,-0.043116189204810994],[0.027216471473530502,0.0032307386618915883,0.027544402029360027,0.004864600344364084,0.05474117264073843,1.0,-0.03434924023304624,-0.005501210142034112,0.018211218585994747,-0.0017418159796223002,0.0180367767831678,-0.028851098268296304,-0.025168121169776386,-0.014128925673039965,-0.03971956084951093,0.002910086766775183,-0.019944282133051158,0.01292432525985184,-0.01053929958383209],[0.5091391713818485,0.01726984306348574,0.10073374627976267,-0.008271564211090302,-0.018606286915593625,-0.03434924023304624,1.0,-0.011852874107879757,0.12747745935975902,-0.02097517451477892,0.0029920842851915417,0.7842285875836238,-0.00038880268266966184,0.04921824796843715,0.5403771052798658,0.39923497329901786,0.360880328918183,0.3748721222170992,-0.0766315895825677],[-0.0024356191124632926,-0.003036032597944144,0.00035735002789448364,-0.0043190509060789025,-0.06641696591650202,-0.005501210142034112,-0.011852874107879757,1.0,-0.04986503111207008,0.03184702528894032,-0.022027608220205913,-0.02682358268451831,-0.02803105530088344,-0.018547939787863333,0.0018071701566862188,0.0020178140488949143,-0.006507587097721607,-0.022096349636836318,0.0006059418771471361],[0.2844084576976676,-0.021410562245319037,0.12867388176113204,0.0172698533731677,0.040484148221211144,0.018211218585994747,0.12747745935975902,-0.04986503111207008,1.0,-0.011788363394886103,0.05791660546474718,0.22150515223959358,-0.050816665811476126,0.0024894968835774364,-0.12979664049510412,-0.09727052001908444,-0.031655840608745565,-0.10993749792314789,0.020979618743500433],[-0.006105156365021786,0.04497396914547221,0.002357750416763201,-0.04727077080788636,-0.015934157857078197,-0.0017418159796223002,-0.02097517451477892,0.03184702528894032,-0.011788363394886103,1.0,-0.04289155923075875,-0.005932752661816317,-0.013438951880881492,-0.017001257577963766,-0.019830244740937062,-0.004956823684626833,-0.015910895508927055,-0.007666145291894643,0.33372182156224617],[0.04974901926939412,-0.009508916507753344,-0.016690237904632012,-0.01050449696094975,0.008783333835773191,0.0180367767831678,0.0029920842851915417,-0.022027608220205913,0.05791660546474718,-0.04289155923075875,1.0,0.01808862306500421,0.025974863022116993,-0.004905881105480947,0.01561160359566759,-0.032130869307114944,0.026252583970345217,-0.00642576117467634,-0.019501527252275365],[0.6808863776423193,0.02730593309886023,0.1510621856878257,-0.012894424882358292,0.02603430942754555,-0.028851098268296304,0.7842285875836238,-0.02682358268451831,0.22150515223959358,-0.005932752661816317,0.01808862306500421,1.0,-0.02211262943028466,0.015494715356309717,0.633554768463762,0.4607001585561291,0.4127805468802949,0.4607832185819649,-0.06814118450453542],[-0.016053107102303073,-0.0320816216221785,-0.013673515276811207,0.001191904003371839,-0.024159739259631767,-0.025168121169776386,-0.00038880268266966184,-0.02803105530088344,-0.050816665811476126,-0.013438951880881492,0.025974863022116993,-0.02211262943028466,1.0,0.03704790532553145,0.008564417252240764,0.010221895769387137,0.01883117055348924,-0.01323663516132205,-0.0054430680449569216],[-0.01956285825934683,-0.04478796567018094,0.010276451085748324,-0.00026152119868586737,0.016188867945037894,-0.014128925673039965,0.04921824796843715,-0.018547939787863333,0.0024894968835774364,-0.017001257577963766,-0.004905881105480947,0.015494715356309717,0.03704790532553145,1.0,0.023478732469248254,0.045718769156818426,0.015772783872479056,0.010517595452149354,0.12442896010503166],[0.3188515226818484,0.02190812800670381,0.076331944663788,-0.0005606612569105495,-0.00039893221033234557,-0.03971956084951093,0.5403771052798658,0.0018071701566862188,-0.12979664049510412,-0.019830244740937062,0.01561160359566759,0.633554768463762,0.008564417252240764,0.023478732469248254,1.0,0.764101587123479,0.620230269214471,0.7592581958041325,-0.11164534236127022],[0.21716250666536419,0.01989812662510041,0.06667154814699408,0.02549147691765949,-0.011871030699667974,0.002910086766775183,0.39923497329901786,0.0020178140488949143,-0.09727052001908444,-0.004956823684626833,-0.032130869307114944,0.4607001585561291,0.010221895769387137,0.045718769156818426,0.764101587123479,1.0,0.5406004608224716,0.7289728836492501,-0.14763779523720283],[0.22819931916905006,0.01324618910948856,0.0543128629259646,0.010732276434404407,-0.010000466295698753,-0.019944282133051158,0.360880328918183,-0.006507587097721607,-0.031655840608745565,-0.015910895508927055,0.026252583970345217,0.4127805468802949,0.01883117055348924,0.015772783872479056,0.620230269214471,0.5406004608224716,1.0,0.4911987614363873,-0.16762909785906416],[0.20509822032722205,0.01785972653146319,0.08898782229628754,-0.011702487849725324,-0.00457551298096692,0.01292432525985184,0.3748721222170992,-0.022096349636836318,-0.10993749792314789,-0.007666145291894643,-0.00642576117467634,0.4607832185819649,-0.01323663516132205,0.010517595452149354,0.7592581958041325,0.7289728836492501,0.4911987614363873,1.0,-0.12231281881984066],[-0.040164149887202294,-0.046142192028541876,0.020529042456465713,0.3955609960685299,-0.043116189204810994,-0.01053929958383209,-0.0766315895825677,0.0006059418771471361,0.020979618743500433,0.33372182156224617,-0.019501527252275365,-0.06814118450453542,-0.0054430680449569216,0.12442896010503166,-0.11164534236127022,-0.14763779523720283,-0.16762909785906416,-0.12231281881984066,1.0]],\"type\":\"heatmap\"}],                        {\"height\":700,\"template\":{\"data\":{\"barpolar\":[{\"marker\":{\"line\":{\"color\":\"#E5ECF6\",\"width\":0.5},\"pattern\":{\"fillmode\":\"overlay\",\"size\":10,\"solidity\":0.2}},\"type\":\"barpolar\"}],\"bar\":[{\"error_x\":{\"color\":\"#2a3f5f\"},\"error_y\":{\"color\":\"#2a3f5f\"},\"marker\":{\"line\":{\"color\":\"#E5ECF6\",\"width\":0.5},\"pattern\":{\"fillmode\":\"overlay\",\"size\":10,\"solidity\":0.2}},\"type\":\"bar\"}],\"carpet\":[{\"aaxis\":{\"endlinecolor\":\"#2a3f5f\",\"gridcolor\":\"white\",\"linecolor\":\"white\",\"minorgridcolor\":\"white\",\"startlinecolor\":\"#2a3f5f\"},\"baxis\":{\"endlinecolor\":\"#2a3f5f\",\"gridcolor\":\"white\",\"linecolor\":\"white\",\"minorgridcolor\":\"white\",\"startlinecolor\":\"#2a3f5f\"},\"type\":\"carpet\"}],\"choropleth\":[{\"colorbar\":{\"outlinewidth\":0,\"ticks\":\"\"},\"type\":\"choropleth\"}],\"contourcarpet\":[{\"colorbar\":{\"outlinewidth\":0,\"ticks\":\"\"},\"type\":\"contourcarpet\"}],\"contour\":[{\"colorbar\":{\"outlinewidth\":0,\"ticks\":\"\"},\"colorscale\":[[0.0,\"#0d0887\"],[0.1111111111111111,\"#46039f\"],[0.2222222222222222,\"#7201a8\"],[0.3333333333333333,\"#9c179e\"],[0.4444444444444444,\"#bd3786\"],[0.5555555555555556,\"#d8576b\"],[0.6666666666666666,\"#ed7953\"],[0.7777777777777778,\"#fb9f3a\"],[0.8888888888888888,\"#fdca26\"],[1.0,\"#f0f921\"]],\"type\":\"contour\"}],\"heatmapgl\":[{\"colorbar\":{\"outlinewidth\":0,\"ticks\":\"\"},\"colorscale\":[[0.0,\"#0d0887\"],[0.1111111111111111,\"#46039f\"],[0.2222222222222222,\"#7201a8\"],[0.3333333333333333,\"#9c179e\"],[0.4444444444444444,\"#bd3786\"],[0.5555555555555556,\"#d8576b\"],[0.6666666666666666,\"#ed7953\"],[0.7777777777777778,\"#fb9f3a\"],[0.8888888888888888,\"#fdca26\"],[1.0,\"#f0f921\"]],\"type\":\"heatmapgl\"}],\"heatmap\":[{\"colorbar\":{\"outlinewidth\":0,\"ticks\":\"\"},\"colorscale\":[[0.0,\"#0d0887\"],[0.1111111111111111,\"#46039f\"],[0.2222222222222222,\"#7201a8\"],[0.3333333333333333,\"#9c179e\"],[0.4444444444444444,\"#bd3786\"],[0.5555555555555556,\"#d8576b\"],[0.6666666666666666,\"#ed7953\"],[0.7777777777777778,\"#fb9f3a\"],[0.8888888888888888,\"#fdca26\"],[1.0,\"#f0f921\"]],\"type\":\"heatmap\"}],\"histogram2dcontour\":[{\"colorbar\":{\"outlinewidth\":0,\"ticks\":\"\"},\"colorscale\":[[0.0,\"#0d0887\"],[0.1111111111111111,\"#46039f\"],[0.2222222222222222,\"#7201a8\"],[0.3333333333333333,\"#9c179e\"],[0.4444444444444444,\"#bd3786\"],[0.5555555555555556,\"#d8576b\"],[0.6666666666666666,\"#ed7953\"],[0.7777777777777778,\"#fb9f3a\"],[0.8888888888888888,\"#fdca26\"],[1.0,\"#f0f921\"]],\"type\":\"histogram2dcontour\"}],\"histogram2d\":[{\"colorbar\":{\"outlinewidth\":0,\"ticks\":\"\"},\"colorscale\":[[0.0,\"#0d0887\"],[0.1111111111111111,\"#46039f\"],[0.2222222222222222,\"#7201a8\"],[0.3333333333333333,\"#9c179e\"],[0.4444444444444444,\"#bd3786\"],[0.5555555555555556,\"#d8576b\"],[0.6666666666666666,\"#ed7953\"],[0.7777777777777778,\"#fb9f3a\"],[0.8888888888888888,\"#fdca26\"],[1.0,\"#f0f921\"]],\"type\":\"histogram2d\"}],\"histogram\":[{\"marker\":{\"pattern\":{\"fillmode\":\"overlay\",\"size\":10,\"solidity\":0.2}},\"type\":\"histogram\"}],\"mesh3d\":[{\"colorbar\":{\"outlinewidth\":0,\"ticks\":\"\"},\"type\":\"mesh3d\"}],\"parcoords\":[{\"line\":{\"colorbar\":{\"outlinewidth\":0,\"ticks\":\"\"}},\"type\":\"parcoords\"}],\"pie\":[{\"automargin\":true,\"type\":\"pie\"}],\"scatter3d\":[{\"line\":{\"colorbar\":{\"outlinewidth\":0,\"ticks\":\"\"}},\"marker\":{\"colorbar\":{\"outlinewidth\":0,\"ticks\":\"\"}},\"type\":\"scatter3d\"}],\"scattercarpet\":[{\"marker\":{\"colorbar\":{\"outlinewidth\":0,\"ticks\":\"\"}},\"type\":\"scattercarpet\"}],\"scattergeo\":[{\"marker\":{\"colorbar\":{\"outlinewidth\":0,\"ticks\":\"\"}},\"type\":\"scattergeo\"}],\"scattergl\":[{\"marker\":{\"colorbar\":{\"outlinewidth\":0,\"ticks\":\"\"}},\"type\":\"scattergl\"}],\"scattermapbox\":[{\"marker\":{\"colorbar\":{\"outlinewidth\":0,\"ticks\":\"\"}},\"type\":\"scattermapbox\"}],\"scatterpolargl\":[{\"marker\":{\"colorbar\":{\"outlinewidth\":0,\"ticks\":\"\"}},\"type\":\"scatterpolargl\"}],\"scatterpolar\":[{\"marker\":{\"colorbar\":{\"outlinewidth\":0,\"ticks\":\"\"}},\"type\":\"scatterpolar\"}],\"scatter\":[{\"marker\":{\"colorbar\":{\"outlinewidth\":0,\"ticks\":\"\"}},\"type\":\"scatter\"}],\"scatterternary\":[{\"marker\":{\"colorbar\":{\"outlinewidth\":0,\"ticks\":\"\"}},\"type\":\"scatterternary\"}],\"surface\":[{\"colorbar\":{\"outlinewidth\":0,\"ticks\":\"\"},\"colorscale\":[[0.0,\"#0d0887\"],[0.1111111111111111,\"#46039f\"],[0.2222222222222222,\"#7201a8\"],[0.3333333333333333,\"#9c179e\"],[0.4444444444444444,\"#bd3786\"],[0.5555555555555556,\"#d8576b\"],[0.6666666666666666,\"#ed7953\"],[0.7777777777777778,\"#fb9f3a\"],[0.8888888888888888,\"#fdca26\"],[1.0,\"#f0f921\"]],\"type\":\"surface\"}],\"table\":[{\"cells\":{\"fill\":{\"color\":\"#EBF0F8\"},\"line\":{\"color\":\"white\"}},\"header\":{\"fill\":{\"color\":\"#C8D4E3\"},\"line\":{\"color\":\"white\"}},\"type\":\"table\"}]},\"layout\":{\"annotationdefaults\":{\"arrowcolor\":\"#2a3f5f\",\"arrowhead\":0,\"arrowwidth\":1},\"autotypenumbers\":\"strict\",\"coloraxis\":{\"colorbar\":{\"outlinewidth\":0,\"ticks\":\"\"}},\"colorscale\":{\"diverging\":[[0,\"#8e0152\"],[0.1,\"#c51b7d\"],[0.2,\"#de77ae\"],[0.3,\"#f1b6da\"],[0.4,\"#fde0ef\"],[0.5,\"#f7f7f7\"],[0.6,\"#e6f5d0\"],[0.7,\"#b8e186\"],[0.8,\"#7fbc41\"],[0.9,\"#4d9221\"],[1,\"#276419\"]],\"sequential\":[[0.0,\"#0d0887\"],[0.1111111111111111,\"#46039f\"],[0.2222222222222222,\"#7201a8\"],[0.3333333333333333,\"#9c179e\"],[0.4444444444444444,\"#bd3786\"],[0.5555555555555556,\"#d8576b\"],[0.6666666666666666,\"#ed7953\"],[0.7777777777777778,\"#fb9f3a\"],[0.8888888888888888,\"#fdca26\"],[1.0,\"#f0f921\"]],\"sequentialminus\":[[0.0,\"#0d0887\"],[0.1111111111111111,\"#46039f\"],[0.2222222222222222,\"#7201a8\"],[0.3333333333333333,\"#9c179e\"],[0.4444444444444444,\"#bd3786\"],[0.5555555555555556,\"#d8576b\"],[0.6666666666666666,\"#ed7953\"],[0.7777777777777778,\"#fb9f3a\"],[0.8888888888888888,\"#fdca26\"],[1.0,\"#f0f921\"]]},\"colorway\":[\"#636efa\",\"#EF553B\",\"#00cc96\",\"#ab63fa\",\"#FFA15A\",\"#19d3f3\",\"#FF6692\",\"#B6E880\",\"#FF97FF\",\"#FECB52\"],\"font\":{\"color\":\"#2a3f5f\"},\"geo\":{\"bgcolor\":\"white\",\"lakecolor\":\"white\",\"landcolor\":\"#E5ECF6\",\"showlakes\":true,\"showland\":true,\"subunitcolor\":\"white\"},\"hoverlabel\":{\"align\":\"left\"},\"hovermode\":\"closest\",\"mapbox\":{\"style\":\"light\"},\"paper_bgcolor\":\"white\",\"plot_bgcolor\":\"#E5ECF6\",\"polar\":{\"angularaxis\":{\"gridcolor\":\"white\",\"linecolor\":\"white\",\"ticks\":\"\"},\"bgcolor\":\"#E5ECF6\",\"radialaxis\":{\"gridcolor\":\"white\",\"linecolor\":\"white\",\"ticks\":\"\"}},\"scene\":{\"xaxis\":{\"backgroundcolor\":\"#E5ECF6\",\"gridcolor\":\"white\",\"gridwidth\":2,\"linecolor\":\"white\",\"showbackground\":true,\"ticks\":\"\",\"zerolinecolor\":\"white\"},\"yaxis\":{\"backgroundcolor\":\"#E5ECF6\",\"gridcolor\":\"white\",\"gridwidth\":2,\"linecolor\":\"white\",\"showbackground\":true,\"ticks\":\"\",\"zerolinecolor\":\"white\"},\"zaxis\":{\"backgroundcolor\":\"#E5ECF6\",\"gridcolor\":\"white\",\"gridwidth\":2,\"linecolor\":\"white\",\"showbackground\":true,\"ticks\":\"\",\"zerolinecolor\":\"white\"}},\"shapedefaults\":{\"line\":{\"color\":\"#2a3f5f\"}},\"ternary\":{\"aaxis\":{\"gridcolor\":\"white\",\"linecolor\":\"white\",\"ticks\":\"\"},\"baxis\":{\"gridcolor\":\"white\",\"linecolor\":\"white\",\"ticks\":\"\"},\"bgcolor\":\"#E5ECF6\",\"caxis\":{\"gridcolor\":\"white\",\"linecolor\":\"white\",\"ticks\":\"\"}},\"title\":{\"x\":0.05},\"xaxis\":{\"automargin\":true,\"gridcolor\":\"white\",\"linecolor\":\"white\",\"ticks\":\"\",\"title\":{\"standoff\":15},\"zerolinecolor\":\"white\",\"zerolinewidth\":2},\"yaxis\":{\"automargin\":true,\"gridcolor\":\"white\",\"linecolor\":\"white\",\"ticks\":\"\",\"title\":{\"standoff\":15},\"zerolinecolor\":\"white\",\"zerolinewidth\":2}}},\"title\":{\"text\":\"Pearson Correlation for Numerical Features\"},\"width\":800,\"xaxis\":{\"nticks\":36,\"ticks\":\"\"},\"yaxis\":{\"ticks\":\"\"}},                        {\"responsive\": true}                    ).then(function(){\n",
       "                            \n",
       "var gd = document.getElementById('8a279c23-3075-4bbb-ae2a-2ef09bbb8751');\n",
       "var x = new MutationObserver(function (mutations, observer) {{\n",
       "        var display = window.getComputedStyle(gd).display;\n",
       "        if (!display || display === 'none') {{\n",
       "            console.log([gd, 'removed!']);\n",
       "            Plotly.purge(gd);\n",
       "            observer.disconnect();\n",
       "        }}\n",
       "}});\n",
       "\n",
       "// Listen for the removal of the full notebook cells\n",
       "var notebookContainer = gd.closest('#notebook-container');\n",
       "if (notebookContainer) {{\n",
       "    x.observe(notebookContainer, {childList: true});\n",
       "}}\n",
       "\n",
       "// Listen for the clearing of the current output cell\n",
       "var outputEl = gd.closest('.output');\n",
       "if (outputEl) {{\n",
       "    x.observe(outputEl, {childList: true});\n",
       "}}\n",
       "\n",
       "                        })                };                });            </script>        </div>"
      ]
     },
     "metadata": {},
     "output_type": "display_data"
    }
   ],
   "source": [
    "numerical = ['Age', 'DistanceFromHome', 'EmpEducationLevel', 'EmpEnvironmentSatisfaction', 'EmpHourlyRate'\n",
    " , 'EmpJobInvolvement', 'EmpJobLevel', 'EmpJobSatisfaction'\n",
    " , 'NumCompaniesWorked', 'EmpLastSalaryHikePercent'\n",
    " , 'EmpRelationshipSatisfaction', 'TotalWorkExperienceInYears'\n",
    " , 'TrainingTimesLastYear', 'EmpWorkLifeBalance'\n",
    " , 'ExperienceYearsAtThisCompany', 'ExperienceYearsInCurrentRole'\n",
    " , 'YearsSinceLastPromotion', 'YearsWithCurrManager'\n",
    " , 'PerformanceRating']\n",
    "\n",
    "data = [go.Heatmap(\n",
    "        z=df[numerical].astype(float).corr().values, # Generating the Pearson correlation\n",
    "        x=df[numerical].columns.values,\n",
    "        y=df[numerical].columns.values,\n",
    "        colorscale='greys',\n",
    "        reversescale = False,\n",
    "        opacity = 1.0   \n",
    "    )\n",
    "       ]\n",
    "\n",
    "\n",
    "layout = go.Layout(\n",
    "    title='Pearson Correlation for Numerical Features',\n",
    "    xaxis = dict(ticks='', nticks=36),\n",
    "    yaxis = dict(ticks='' ),\n",
    "    width = 800, height = 700,\n",
    "    \n",
    ")\n",
    "\n",
    "\n",
    "fig = go.Figure(data=data, layout=layout)\n",
    "py.iplot(fig, filename='labelled-heatmap')"
   ]
  },
  {
   "cell_type": "markdown",
   "id": "f5d9925a",
   "metadata": {},
   "source": [
    "#### <span style=\"font-family:cursive\"> Pearson correlation information </span> "
   ]
  },
  {
   "cell_type": "markdown",
   "id": "84bcf8a5",
   "metadata": {},
   "source": [
    "> #### From the above Pearson correlation heat plot, we can be to see that correlation between features with numerical values in the dataset. The heat signatures show the level of correlation from 0 to 1. from this distribution we can derive the facts as follows\n",
    "\n",
    "\n",
    "\n",
    "\n",
    "- [X] The Total years of experience and job level are having the higher correlation when comparing to all features.\n",
    "\n",
    "\n",
    "- [X] Experience years at this company and years with the current manager has the second higher relation between these features.\n",
    "\n",
    "\n",
    "- [X] Experience years at this company and experience in the current role makes the sense of correlation.\n",
    "\n",
    "\n",
    "- [X] People who have more experience with the company has the more probability to get the promotion from the correlation  between them.\n",
    "\n",
    "\n",
    "- [X] In this plot, the age has the important role in the total number of work experience of an employee where it is a universal truth."
   ]
  },
  {
   "cell_type": "code",
   "execution_count": null,
   "id": "46d7e5c4",
   "metadata": {},
   "outputs": [],
   "source": []
  }
 ],
 "metadata": {
  "kernelspec": {
   "display_name": "Python 3 (ipykernel)",
   "language": "python",
   "name": "python3"
  },
  "language_info": {
   "codemirror_mode": {
    "name": "ipython",
    "version": 3
   },
   "file_extension": ".py",
   "mimetype": "text/x-python",
   "name": "python",
   "nbconvert_exporter": "python",
   "pygments_lexer": "ipython3",
   "version": "3.9.12"
  }
 },
 "nbformat": 4,
 "nbformat_minor": 5
}
